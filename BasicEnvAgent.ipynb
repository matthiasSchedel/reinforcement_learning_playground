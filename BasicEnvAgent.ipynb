{
  "nbformat": 4,
  "nbformat_minor": 0,
  "metadata": {
    "colab": {
      "name": "Untitled1.ipynb",
      "provenance": [],
      "include_colab_link": true
    },
    "kernelspec": {
      "name": "python3",
      "display_name": "Python 3"
    }
  },
  "cells": [
    {
      "cell_type": "markdown",
      "metadata": {
        "id": "view-in-github",
        "colab_type": "text"
      },
      "source": [
        "<a href=\"https://colab.research.google.com/github/matthiasSchedel/reinforcement_learning_playground/blob/master/BasicEnvAgent.ipynb\" target=\"_parent\"><img src=\"https://colab.research.google.com/assets/colab-badge.svg\" alt=\"Open In Colab\"/></a>"
      ]
    },
    {
      "cell_type": "code",
      "metadata": {
        "id": "wyjeBjNDkrY1",
        "colab_type": "code",
        "colab": {}
      },
      "source": [
        "import random"
      ],
      "execution_count": 0,
      "outputs": []
    },
    {
      "cell_type": "code",
      "metadata": {
        "id": "TZ4nfJZQiVXk",
        "colab_type": "code",
        "colab": {}
      },
      "source": [
        "class Environment:\n",
        "  def __init__(self):\n",
        "    self.steps_left = 10\n",
        "    \n",
        "  def get_observation(self):\n",
        "    return [0.0,0.0,0.0]\n",
        "  \n",
        "  def get_actions(self):\n",
        "    return [0,1]\n",
        "  \n",
        "  def is_done(self):\n",
        "    return self.steps_left == 0\n",
        "  \n",
        "  def action(self, action):\n",
        "    if self.is_done():\n",
        "      raise Exception(\"Game is over\")\n",
        "    self.steps_left -= 1\n",
        "    return random.random()"
      ],
      "execution_count": 0,
      "outputs": []
    },
    {
      "cell_type": "code",
      "metadata": {
        "id": "l0xWDnIdi-Ks",
        "colab_type": "code",
        "colab": {}
      },
      "source": [
        "class Agent:\n",
        "  def __init__(self):\n",
        "    self.total_reward = 0.0\n",
        "    \n",
        "  def step(self, env):\n",
        "    # do the following things:\n",
        "    # 1. Observe env\n",
        "    # 2. Make decision to take action based on given obs\n",
        "    # 3. submit action to env\n",
        "    # 4. get reward for current step\n",
        "    current_bobs = env.get_observation()\n",
        "    actions = env.get_actions()\n",
        "    reward = env.action(random.choice(actions))\n",
        "    self.total_reward += reward"
      ],
      "execution_count": 0,
      "outputs": []
    },
    {
      "cell_type": "code",
      "metadata": {
        "id": "61sGyURbj1LT",
        "colab_type": "code",
        "colab": {
          "base_uri": "https://localhost:8080/",
          "height": 34
        },
        "outputId": "b51b25ec-d74c-47ab-a4d0-ca154a82fc39"
      },
      "source": [
        "if __name__ == \"__main__\":\n",
        "  env = Environment()\n",
        "  agent = Agent()\n",
        "  \n",
        "  while not env.is_done():\n",
        "    agent.step(env)\n",
        "    \n",
        "  print(\"Total reward got %.4f\" % agent.total_reward)"
      ],
      "execution_count": 16,
      "outputs": [
        {
          "output_type": "stream",
          "text": [
            "Total reward got 5.2550\n"
          ],
          "name": "stdout"
        }
      ]
    },
    {
      "cell_type": "code",
      "metadata": {
        "id": "MXqARgMGkMyc",
        "colab_type": "code",
        "colab": {}
      },
      "source": [
        ""
      ],
      "execution_count": 0,
      "outputs": []
    }
  ]
}